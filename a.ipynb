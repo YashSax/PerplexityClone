{
 "cells": [
  {
   "cell_type": "code",
   "execution_count": 2,
   "metadata": {},
   "outputs": [
    {
     "name": "stdout",
     "output_type": "stream",
     "text": [
      "https://www.nasa.gov/favicon.ico\n"
     ]
    },
    {
     "data": {
      "text/plain": [
       "('https://www.nasa.gov/favicon.ico', True)"
      ]
     },
     "execution_count": 2,
     "metadata": {},
     "output_type": "execute_result"
    }
   ],
   "source": [
    "from gradio_app import get_favicon_url, favicon_exists\n",
    "import requests\n",
    "\n",
    "a = \"https://www.nasa.gov/events/\"\n",
    "print(get_favicon_url(a))\n",
    "\n",
    "url = get_favicon_url(a)\n",
    "\n",
    "url, favicon_exists(a)"
   ]
  }
 ],
 "metadata": {
  "kernelspec": {
   "display_name": "Python 3",
   "language": "python",
   "name": "python3"
  },
  "language_info": {
   "codemirror_mode": {
    "name": "ipython",
    "version": 3
   },
   "file_extension": ".py",
   "mimetype": "text/x-python",
   "name": "python",
   "nbconvert_exporter": "python",
   "pygments_lexer": "ipython3",
   "version": "3.10.2"
  }
 },
 "nbformat": 4,
 "nbformat_minor": 2
}
