{
 "cells": [
  {
   "cell_type": "code",
   "execution_count": 1,
   "metadata": {},
   "outputs": [],
   "source": [
    "from langchain_anthropic import ChatAnthropic\n",
    "import json\n",
    "\n",
    "with open(\"api_keys.json\", \"r\") as f:\n",
    "    api_keys = json.load(f)\n",
    "    ANTHROPIC_API_KEY = api_keys[\"anthropic\"]\n",
    "\n",
    "llm = ChatAnthropic(\n",
    "    model=\"claude-3-sonnet-20240229\",\n",
    "    temperature=0.2,\n",
    "    max_tokens=1024,\n",
    "    api_key=ANTHROPIC_API_KEY\n",
    ")"
   ]
  },
  {
   "cell_type": "code",
   "execution_count": 3,
   "metadata": {},
   "outputs": [
    {
     "data": {
      "text/plain": [
       "AIMessage(content=\"Langsmith can assist with testing in several ways:\\n\\n1. **Test Case Generation**: Langsmith can be used to generate test cases automatically based on the requirements or specifications of the software being tested. This can help in achieving better test coverage and identifying edge cases that might have been missed during manual test case creation.\\n\\n2. **Natural Language Test Scripting**: Langsmith allows you to write test scripts in natural language, which can then be translated into executable code. This can make the test scripting process more accessible to non-technical team members and facilitate better collaboration between developers and testers.\\n\\n3. **Test Data Generation**: Langsmith can be used to generate realistic and diverse test data, including edge cases and boundary conditions. This can help in testing the software's behavior under various input scenarios.\\n\\n4. **Test Automation**: Langsmith can be integrated with existing test automation frameworks to automate the execution of tests. This can help in reducing the time and effort required for manual testing, especially for regression testing scenarios.\\n\\n5. **Test Report Generation**: Langsmith can be used to generate human-readable test reports in natural language, making it easier for stakeholders to understand the test results and identify areas that require attention.\\n\\n6. **Test Maintenance**: As requirements or specifications change, Langsmith can assist in updating the existing test cases and scripts, reducing the effort required for manual maintenance.\\n\\n7. **Test Planning and Documentation**: Langsmith can help in generating test plans, test strategies, and other documentation in natural language, facilitating better communication and understanding among team members.\\n\\nIt's important to note that while Langsmith can assist in various testing activities, it should be used in conjunction with human expertise and judgment. Testing is a critical aspect of software development, and relying solely on automated tools may not be sufficient to ensure the quality and reliability of the software.\", response_metadata={'id': 'msg_01WtJh32hJix5wx9ihhYBh1c', 'model': 'claude-3-sonnet-20240229', 'stop_reason': 'end_turn', 'stop_sequence': None, 'usage': {'input_tokens': 15, 'output_tokens': 395}}, id='run-38df094c-2154-4ac1-8ffd-a1c953d70eb5-0')"
      ]
     },
     "execution_count": 3,
     "metadata": {},
     "output_type": "execute_result"
    }
   ],
   "source": [
    "llm.invoke(\"How can langsmith help with testing?\")"
   ]
  },
  {
   "cell_type": "code",
   "execution_count": 6,
   "metadata": {},
   "outputs": [],
   "source": [
    "from langchain_core.prompts import ChatPromptTemplate\n",
    "\n",
    "prompt = ChatPromptTemplate.from_messages([\n",
    "    (\"system\", \"You are a world class technical documentation writer.\"),\n",
    "    (\"user\", \"{input}\")\n",
    "])\n",
    "\n",
    "chain = prompt | llm"
   ]
  },
  {
   "cell_type": "code",
   "execution_count": 8,
   "metadata": {},
   "outputs": [
    {
     "data": {
      "text/plain": [
       "AIMessage(content='Langsmith can be a valuable tool for testing in several ways:\\n\\n1. **Test Case Generation**: Langsmith can be used to generate test cases automatically based on the requirements or specifications of the software being tested. By analyzing the natural language descriptions, Langsmith can identify different scenarios, edge cases, and boundary conditions, and generate corresponding test cases.\\n\\n2. **Test Data Generation**: Langsmith can assist in generating realistic and diverse test data for testing purposes. By understanding the context and constraints described in natural language, it can generate test data that covers a wide range of scenarios, including valid and invalid inputs.\\n\\n3. **Test Script Generation**: For automated testing frameworks, Langsmith can help in generating test scripts or code snippets based on natural language descriptions of test scenarios. This can save time and effort for testers, as they can describe the test cases in plain language, and Langsmith can translate them into executable test scripts.\\n\\n4. **Test Report Generation**: After executing tests, Langsmith can be used to generate human-readable test reports by analyzing the test results and logs. These reports can provide a clear and concise summary of the testing process, highlighting any issues or failures encountered.\\n\\n5. **Requirements Traceability**: Langsmith can assist in tracing test cases back to the original requirements or specifications. By analyzing the natural language descriptions of requirements and test cases, it can establish links between them, ensuring that all requirements are adequately covered by the testing process.\\n\\n6. **Test Review and Analysis**: Langsmith can be used to review and analyze existing test cases or test plans written in natural language. It can identify potential gaps, inconsistencies, or ambiguities, and suggest improvements or additional test scenarios to consider.\\n\\nWhile Langsmith can be a powerful tool for testing, it is important to note that human oversight and validation are still necessary. Langsmith should be used as an aid to augment and streamline the testing process, but not as a complete replacement for human expertise and judgment.', response_metadata={'id': 'msg_01Kr28UwA25qQEs5GnGYeTwC', 'model': 'claude-3-sonnet-20240229', 'stop_reason': 'end_turn', 'stop_sequence': None, 'usage': {'input_tokens': 24, 'output_tokens': 426}}, id='run-94e10c1c-59e3-4ed9-9386-b2317411394d-0')"
      ]
     },
     "execution_count": 8,
     "metadata": {},
     "output_type": "execute_result"
    }
   ],
   "source": [
    "chain.invoke({\"input\" : \"How can langsmith help with testing?\"})"
   ]
  },
  {
   "cell_type": "code",
   "execution_count": 9,
   "metadata": {},
   "outputs": [
    {
     "data": {
      "text/plain": [
       "\"Langsmith can be a valuable tool for testing in several ways:\\n\\n1. **Test Case Generation**: Langsmith's natural language processing capabilities can be used to generate test cases from requirements or specifications written in natural language. This can help automate the process of creating test cases, saving time and effort.\\n\\n2. **Test Data Generation**: Langsmith can be trained on existing data sets to generate realistic and diverse test data. This can be particularly useful for testing scenarios that require large amounts of data or edge cases that may be difficult to manually create.\\n\\n3. **Test Automation**: Langsmith can be integrated with testing frameworks and tools to automate the execution of tests. By understanding natural language instructions, Langsmith can interpret and execute test scenarios, reducing the need for manual intervention.\\n\\n4. **Test Reporting**: Langsmith can be used to generate human-readable test reports from test execution logs or results. This can help make test results more accessible and easier to understand, especially for non-technical stakeholders.\\n\\n5. **Test Maintenance**: As requirements or specifications change, Langsmith can be used to update existing test cases or generate new ones based on the updated natural language descriptions. This can help ensure that test suites remain up-to-date and aligned with the evolving system requirements.\\n\\n6. **Test Exploration**: Langsmith's natural language processing capabilities can be used to explore and analyze test results, logs, or other testing artifacts. This can help identify patterns, anomalies, or areas that require further investigation or testing.\\n\\nIt's important to note that while Langsmith can be a powerful tool for testing, it should be used in conjunction with established testing practices and frameworks. Additionally, the quality and accuracy of Langsmith's output will depend on the quality of the training data and the specific use case.\""
      ]
     },
     "execution_count": 9,
     "metadata": {},
     "output_type": "execute_result"
    }
   ],
   "source": [
    "from langchain_core.output_parsers import StrOutputParser\n",
    "\n",
    "output_parser = StrOutputParser()\n",
    "\n",
    "chain = prompt | llm | output_parser\n",
    "\n",
    "chain.invoke({\"input\" : \"How can langsmith help with testing?\"})"
   ]
  },
  {
   "cell_type": "code",
   "execution_count": null,
   "metadata": {},
   "outputs": [],
   "source": []
  }
 ],
 "metadata": {
  "kernelspec": {
   "display_name": "Python 3",
   "language": "python",
   "name": "python3"
  },
  "language_info": {
   "codemirror_mode": {
    "name": "ipython",
    "version": 3
   },
   "file_extension": ".py",
   "mimetype": "text/x-python",
   "name": "python",
   "nbconvert_exporter": "python",
   "pygments_lexer": "ipython3",
   "version": "3.9.13"
  }
 },
 "nbformat": 4,
 "nbformat_minor": 2
}
